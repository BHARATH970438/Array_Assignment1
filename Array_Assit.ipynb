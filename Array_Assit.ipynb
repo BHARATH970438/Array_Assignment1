{
 "cells": [
  {
   "cell_type": "markdown",
   "id": "8346bf12",
   "metadata": {},
   "source": [
    "\n",
    "Q1.Given an array of integers nums and an integer target, return indices of the two numbers such that they add up to target.\n",
    "\n",
    "You may assume that each input would have exactly one solution, and you may not use the same element twice."
   ]
  },
  {
   "cell_type": "code",
   "execution_count": 5,
   "id": "6bb5d1bb",
   "metadata": {},
   "outputs": [
    {
     "name": "stdout",
     "output_type": "stream",
     "text": [
      "nums : 1,2,3,4,5,6,7,8,9\n",
      "Target: 17\n",
      "Output : [7, 8]\n"
     ]
    }
   ],
   "source": [
    "arr = list(map(int,input(\"nums : \").split(',')))\n",
    "\n",
    "target = int(input(\"Target: \"))\n",
    "\n",
    "output = []\n",
    "\n",
    "for i in range(len(arr) - 1):\n",
    "    \n",
    "    for j in arr[i+1::]:\n",
    "        if arr[i] + j == target :\n",
    "            output.append(i)\n",
    "            output.append(arr.index(j))\n",
    "            \n",
    "print(\"Output :\",output)"
   ]
  },
  {
   "cell_type": "markdown",
   "id": "6947dfd5",
   "metadata": {},
   "source": [
    "Q2. Given an integer array nums and an integer val, remove all occurrences of val in nums in-place. The order of the elements may be changed. Then return the number of elements in nums which are not equal to val.\n",
    "\n",
    "Consider the number of elements in nums which are not equal to val be k, to get accepted, you need to do the following things:\n",
    "\n",
    "- Change the array nums such that the first k elements of nums contain the elements which are not equal to val. The remaining elements of nums are not important as well as the size of nums.\n",
    "- Return k."
   ]
  },
  {
   "cell_type": "code",
   "execution_count": 19,
   "id": "07a571ce",
   "metadata": {},
   "outputs": [
    {
     "name": "stdout",
     "output_type": "stream",
     "text": [
      "nums : 1,2,3,2,2,2\n",
      "value: 2\n",
      "Output: 2\n",
      "nums: [1, 3, '_', '_', '_', '_', '_']\n"
     ]
    }
   ],
   "source": [
    "def removeElement(nums, val):\n",
    "    i = 0\n",
    "    for j in range(len(nums)):\n",
    "        if nums[j] != val:\n",
    "            nums[i] = nums[j]\n",
    "            i += 1\n",
    "    return i\n",
    "\n",
    "arr = list(map(int,input(\"nums : \").split(',')))\n",
    "\n",
    "val = int(input(\"value: \"))\n",
    "\n",
    "result = removeElement(arr, val)\n",
    "\n",
    "duplucates = len(arr) - result\n",
    "\n",
    "print(\"Output:\", result)\n",
    "print(\"nums:\", arr[:result] + ['_'] * duplicates)\n"
   ]
  },
  {
   "cell_type": "markdown",
   "id": "bb3b01b6",
   "metadata": {},
   "source": [
    "\n",
    "Q3. Given a sorted array of distinct integers and a target value, return the index if the target is found. If not, return the index where it would be if it were inserted in order.\n",
    "\n",
    "- You must write an algorithm with O(log n) runtime complexity.\n"
   ]
  },
  {
   "cell_type": "code",
   "execution_count": 3,
   "id": "e9f8ea7e",
   "metadata": {},
   "outputs": [
    {
     "name": "stdout",
     "output_type": "stream",
     "text": [
      "nums : 1,2,3,4\n",
      "Target : 3\n",
      "Target found at index 2\n"
     ]
    }
   ],
   "source": [
    "def SearchIndex(arr,target):\n",
    "    start = 0\n",
    "\n",
    "    end = len(arr) - 1\n",
    "\n",
    "    while start <= end :\n",
    "\n",
    "        mid  = (start + end) // 2\n",
    "\n",
    "        if arr[mid] == target :\n",
    "            return f\"Target found at index {mid}\"\n",
    "        elif arr[mid] > target :\n",
    "            end = mid - 1\n",
    "        else:\n",
    "            start = mid + 1\n",
    "        \n",
    "arr = list(map(int,input(\"nums : \").split(',')))\n",
    "\n",
    "target = int(input(\"Target : \"))\n",
    "\n",
    "print(SearchIndex(arr,target))"
   ]
  },
  {
   "cell_type": "markdown",
   "id": "35a8ebd3",
   "metadata": {},
   "source": [
    "Q4. You are given a large integer represented as an integer array digits, where each digits[i] is the ith digit of the integer. The digits are ordered from most significant to least significant in left-to-right order. The large integer does not contain any leading 0's.\n",
    "\n",
    "Increment the large integer by one and return the resulting array of digits.\n"
   ]
  },
  {
   "cell_type": "code",
   "execution_count": 9,
   "id": "b7f3b13d",
   "metadata": {},
   "outputs": [
    {
     "name": "stdout",
     "output_type": "stream",
     "text": [
      "nums : 1,2,3\n",
      "result : 124\n"
     ]
    }
   ],
   "source": [
    "def Increment(arr):\n",
    "    \n",
    "    power = len(arr) - 1\n",
    "    \n",
    "    ans = 0\n",
    "    \n",
    "    for i in arr :\n",
    "        ans += i * (10 ** power )\n",
    "        power -= 1\n",
    "    \n",
    "    return f\"result : {ans + 1}\" \n",
    "        \n",
    "        \n",
    "arr = list(map(int,input(\"nums : \").split(',')))\n",
    "\n",
    "print(Increment(arr))"
   ]
  },
  {
   "cell_type": "markdown",
   "id": "d6feb092",
   "metadata": {},
   "source": [
    "Q5.You are given two integer arrays nums1 and nums2, sorted in non-decreasing order, and two integers m and n, representing the number of elements in nums1 and nums2 respectively.\n",
    "\n",
    "Merge nums1 and nums2 into a single array sorted in non-decreasing order.\n",
    "\n",
    "The final sorted array should not be returned by the function, but instead be stored inside the array nums1. To accommodate this, nums1 has a length of m + n, where the first m elements denote the elements that should be merged, and the last n elements are set to 0 and should be ignored. nums2 has a length of n."
   ]
  },
  {
   "cell_type": "code",
   "execution_count": 43,
   "id": "13b3861e",
   "metadata": {},
   "outputs": [
    {
     "name": "stdout",
     "output_type": "stream",
     "text": [
      "nums1 : 1,2,6,0,0,0\n",
      "m : 3\n",
      "nums2 : 4,5,7\n",
      "n : 3\n",
      "[1, 2, 4, 5, 6, 7]\n"
     ]
    }
   ],
   "source": [
    "def merge(nums1, m, nums2, n):\n",
    "    p1 = m - 1\n",
    "    p2 = n - 1\n",
    "    p = m + n - 1\n",
    "\n",
    "    while p1 >= 0 and p2 >= 0:\n",
    "        if nums1[p1] > nums2[p2]:\n",
    "            nums1[p] = nums1[p1]\n",
    "            p1 -= 1\n",
    "        else:\n",
    "            nums1[p] = nums2[p2]\n",
    "            p2 -= 1\n",
    "        p -= 1\n",
    "\n",
    "    nums1[:p2 + 1] = nums2[:p2 + 1]\n",
    "    \n",
    "    return nums1\n",
    "\n",
    "nums1 = list(map(int,input(\"nums1 : \").split(',')))\n",
    "m= int(input(\"m : \"))\n",
    "nums2 = list(map(int,input(\"nums2 : \").split(',')))\n",
    "n =int(input(\"n : \"))\n",
    "\n",
    "print(merge(nums1,m,nums2,n))"
   ]
  },
  {
   "cell_type": "markdown",
   "id": "2b27d210",
   "metadata": {},
   "source": [
    "Q6. Given an integer array nums, return true if any value appears at least twice in the array, and return false if every element is distinct."
   ]
  },
  {
   "cell_type": "code",
   "execution_count": 37,
   "id": "62983928",
   "metadata": {},
   "outputs": [
    {
     "name": "stdout",
     "output_type": "stream",
     "text": [
      "nums : 1,2,3,4,3\n",
      "True\n"
     ]
    }
   ],
   "source": [
    "def detect_duplicates(arr):\n",
    "    \n",
    "    num_set = []\n",
    "    \n",
    "    for i in arr :\n",
    "        \n",
    "        if i not in num_set :\n",
    "            num_set.append(i)\n",
    "        \n",
    "        else :\n",
    "            return \"True\"\n",
    "        \n",
    "        arr.remove(i)\n",
    "        \n",
    "arr = list(map(int,input(\"nums : \").split(',')))\n",
    "\n",
    "print(detect_duplicates(arr))"
   ]
  },
  {
   "cell_type": "markdown",
   "id": "150b052e",
   "metadata": {},
   "source": [
    "Q7. Given an integer array nums, move all 0's to the end of it while maintaining the relative order of the nonzero elements.\n",
    "\n",
    "Note that you must do this in-place without making a copy of the array."
   ]
  },
  {
   "cell_type": "code",
   "execution_count": 31,
   "id": "b5efd87f",
   "metadata": {},
   "outputs": [
    {
     "name": "stdout",
     "output_type": "stream",
     "text": [
      "nums : 1,0,2,0,3,4\n",
      "[1, 2, 3, 4, 0, 0]\n"
     ]
    }
   ],
   "source": [
    "def sort_zero(arr):\n",
    "    \n",
    "    zero = []\n",
    "    \n",
    "    for i in arr :\n",
    "        if i == 0 :\n",
    "            zero.append(i)\n",
    "            arr.remove(i)\n",
    "    return arr + zero\n",
    "\n",
    "nums = list(map(int,input(\"nums : \").split(',')))\n",
    "\n",
    "print(sort_zero(nums))"
   ]
  },
  {
   "cell_type": "markdown",
   "id": "b10b9a76",
   "metadata": {},
   "source": [
    "Q8. You have a set of integers s, which originally contains all the numbers from 1 to n. Unfortunately, due to some error, one of the numbers in s got duplicated to another number in the set, which results in repetition of one number and loss of another number.\n",
    "\n",
    "You are given an integer array nums representing the data status of this set after the error.\n",
    "\n",
    "Find the number that occurs twice and the number that is missing and return them in the form of an array."
   ]
  },
  {
   "cell_type": "code",
   "execution_count": 34,
   "id": "dc4cf39a",
   "metadata": {},
   "outputs": [
    {
     "name": "stdout",
     "output_type": "stream",
     "text": [
      "nums : 1,2,3,4,4,5,6\n",
      "[4, 5]\n"
     ]
    }
   ],
   "source": [
    "def Find_Error(arr):\n",
    "    \n",
    "    for i in range(len(arr)):\n",
    "        if arr[i+1] != arr[i] + 1 :\n",
    "            return [arr[i],arr[i]+1]\n",
    "        \n",
    "nums = list(map(int,input(\"nums : \").split(',')))\n",
    "\n",
    "print(Find_Error(nums))"
   ]
  }
 ],
 "metadata": {
  "kernelspec": {
   "display_name": "Python 3 (ipykernel)",
   "language": "python",
   "name": "python3"
  },
  "language_info": {
   "codemirror_mode": {
    "name": "ipython",
    "version": 3
   },
   "file_extension": ".py",
   "mimetype": "text/x-python",
   "name": "python",
   "nbconvert_exporter": "python",
   "pygments_lexer": "ipython3",
   "version": "3.10.9"
  }
 },
 "nbformat": 4,
 "nbformat_minor": 5
}
